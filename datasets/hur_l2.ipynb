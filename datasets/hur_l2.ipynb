%env GEOMSTATS_BACKEND=autograd

import matplotlib.pyplot as plt
#from sasaki_metric import SasakiMetric
from geomstats.learning.frechet_mean import FrechetMean
#from geomstats.learning.pca import TangentPCA
from geomstats.geometry.hypersphere import Hypersphere
from geomstats.geometry.discrete_curves import L2CurvesMetric
import numpy as np
from util import N_SUBJ, N_SAMPLES, get_label, get_CatName, visTPCA, colors, legend_handle

# Import resampled trajectories
data = np.load('datasets/hur_resampled.npz', allow_pickle=True)
subj, seq = data['subj'], data['seq']
n_subject = len(subj)
n_samples = subj[0, 2]
trjs = seq[:, 7:10].reshape(n_subject, n_samples, 3)

# load max-wind
data = np.load('datasets/hur.npz', allow_pickle=True)
seq, ids = data['seq'], data['ids']
maxwind = [seq[s:e, 5].max() for s, e in zip(ids[:-1], ids[1:])]

# category label for classification
y = np.array([0 if w < 64 else (1 if w < 113 else 2) for w in maxwind])
np.bincount(y)
